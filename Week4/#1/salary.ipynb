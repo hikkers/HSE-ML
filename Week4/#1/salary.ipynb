{
 "cells": [
  {
   "cell_type": "code",
   "execution_count": 1,
   "metadata": {},
   "outputs": [],
   "source": [
    "import pandas as pd\n",
    "import numpy as np\n",
    "\n",
    "data = pd.read_csv('salary-train.csv')\n",
    "data_min = pd.read_csv('salary-test-mini.csv')"
   ]
  },
  {
   "cell_type": "code",
   "execution_count": 2,
   "metadata": {},
   "outputs": [],
   "source": [
    "X = data[['FullDescription','LocationNormalized','ContractTime']]\n",
    "y_train = data[['SalaryNormalized']]"
   ]
  },
  {
   "cell_type": "code",
   "execution_count": 3,
   "metadata": {},
   "outputs": [
    {
     "name": "stderr",
     "output_type": "stream",
     "text": [
      "C:\\Users\\HEKKA\\Anaconda3\\lib\\site-packages\\ipykernel_launcher.py:2: SettingWithCopyWarning: \n",
      "A value is trying to be set on a copy of a slice from a DataFrame.\n",
      "Try using .loc[row_indexer,col_indexer] = value instead\n",
      "\n",
      "See the caveats in the documentation: http://pandas.pydata.org/pandas-docs/stable/user_guide/indexing.html#returning-a-view-versus-a-copy\n",
      "  \n",
      "C:\\Users\\HEKKA\\Anaconda3\\lib\\site-packages\\ipykernel_launcher.py:3: SettingWithCopyWarning: \n",
      "A value is trying to be set on a copy of a slice from a DataFrame.\n",
      "Try using .loc[row_indexer,col_indexer] = value instead\n",
      "\n",
      "See the caveats in the documentation: http://pandas.pydata.org/pandas-docs/stable/user_guide/indexing.html#returning-a-view-versus-a-copy\n",
      "  This is separate from the ipykernel package so we can avoid doing imports until\n",
      "C:\\Users\\HEKKA\\Anaconda3\\lib\\site-packages\\pandas\\core\\generic.py:6287: SettingWithCopyWarning: \n",
      "A value is trying to be set on a copy of a slice from a DataFrame\n",
      "\n",
      "See the caveats in the documentation: http://pandas.pydata.org/pandas-docs/stable/user_guide/indexing.html#returning-a-view-versus-a-copy\n",
      "  self._update_inplace(new_data)\n"
     ]
    }
   ],
   "source": [
    "#Correct Data\n",
    "X['FullDescription'] = X['FullDescription'].apply(lambda x: x.lower())\n",
    "X['FullDescription'] = X['FullDescription'].replace('[^a-zA-Z0-9]', ' ', regex=True)\n",
    "X['LocationNormalized'].fillna('nan', inplace=True)\n",
    "X['ContractTime'].fillna('nan', inplace=True)"
   ]
  },
  {
   "cell_type": "code",
   "execution_count": 4,
   "metadata": {},
   "outputs": [],
   "source": [
    "from sklearn.feature_extraction.text import TfidfVectorizer\n",
    "\n",
    "vectorizer = TfidfVectorizer(min_df=5)\n",
    "X_train = vectorizer.fit_transform(X['FullDescription'])\n",
    "X_test = vectorizer.transform(data_min['FullDescription'])\n",
    "#print(vectorizer.get_feature_names())"
   ]
  },
  {
   "cell_type": "code",
   "execution_count": 5,
   "metadata": {},
   "outputs": [],
   "source": [
    "from sklearn.feature_extraction import DictVectorizer\n",
    "import scipy as sp\n",
    "\n",
    "dVectorizer = DictVectorizer()\n",
    "\n",
    "X_train_cat = dVectorizer.fit_transform(X[['LocationNormalized', 'ContractTime']].to_dict('records'))\n",
    "X_test_cat = dVectorizer.transform(data_min[['LocationNormalized', 'ContractTime']].to_dict('records'))\n",
    "X_train = sp.sparse.hstack([X_train, X_train_cat])\n",
    "X_test = sp.sparse.hstack([X_test, X_test_cat])"
   ]
  },
  {
   "cell_type": "code",
   "execution_count": 6,
   "metadata": {},
   "outputs": [
    {
     "name": "stdout",
     "output_type": "stream",
     "text": [
      "  (0, 9611)\t0.04490546953101409\n",
      "  (0, 20413)\t0.0387030844464958\n",
      "  (0, 11722)\t0.024933985634032353\n",
      "  (0, 18451)\t0.05094142801730146\n",
      "  (0, 3350)\t0.02780917325280237\n",
      "  (0, 7709)\t0.051305209532239764\n",
      "  (0, 12171)\t0.019784060664418117\n",
      "  (0, 22197)\t0.020520635156015515\n",
      "  (0, 7323)\t0.07101020149740392\n",
      "  (0, 2650)\t0.03545174285205156\n",
      "  (0, 9932)\t0.056610755716966256\n",
      "  (0, 22668)\t0.02669865026604241\n",
      "  (0, 8484)\t0.06324665355859202\n",
      "  (0, 11621)\t0.052325445744513636\n",
      "  (0, 729)\t0.04195598980714451\n",
      "  (0, 1237)\t0.027657781597657527\n",
      "  (0, 19269)\t0.05547416136056606\n",
      "  (0, 7094)\t0.046308072679393346\n",
      "  (0, 22696)\t0.03842120306776972\n",
      "  (0, 19369)\t0.062300287754603965\n",
      "  (0, 8222)\t0.05853002898579397\n",
      "  (0, 19504)\t0.04001548405514181\n",
      "  (0, 11849)\t0.054256825090476454\n",
      "  (0, 5700)\t0.03416514657651014\n",
      "  (0, 10064)\t0.030482790607819672\n",
      "  :\t:\n",
      "  (59987, 24272)\t1.0\n",
      "  (59988, 22862)\t1.0\n",
      "  (59988, 23196)\t1.0\n",
      "  (59989, 22863)\t1.0\n",
      "  (59989, 23760)\t1.0\n",
      "  (59990, 22863)\t1.0\n",
      "  (59990, 22905)\t1.0\n",
      "  (59991, 22863)\t1.0\n",
      "  (59991, 24526)\t1.0\n",
      "  (59992, 22861)\t1.0\n",
      "  (59992, 23818)\t1.0\n",
      "  (59993, 22862)\t1.0\n",
      "  (59993, 23818)\t1.0\n",
      "  (59994, 22862)\t1.0\n",
      "  (59994, 23540)\t1.0\n",
      "  (59995, 22861)\t1.0\n",
      "  (59995, 24552)\t1.0\n",
      "  (59996, 22863)\t1.0\n",
      "  (59996, 23847)\t1.0\n",
      "  (59997, 22862)\t1.0\n",
      "  (59997, 22939)\t1.0\n",
      "  (59998, 22863)\t1.0\n",
      "  (59998, 24392)\t1.0\n",
      "  (59999, 22862)\t1.0\n",
      "  (59999, 23818)\t1.0\n"
     ]
    }
   ],
   "source": [
    "print(X_train)"
   ]
  },
  {
   "cell_type": "code",
   "execution_count": 7,
   "metadata": {},
   "outputs": [
    {
     "data": {
      "text/html": [
       "<div>\n",
       "<style scoped>\n",
       "    .dataframe tbody tr th:only-of-type {\n",
       "        vertical-align: middle;\n",
       "    }\n",
       "\n",
       "    .dataframe tbody tr th {\n",
       "        vertical-align: top;\n",
       "    }\n",
       "\n",
       "    .dataframe thead th {\n",
       "        text-align: right;\n",
       "    }\n",
       "</style>\n",
       "<table border=\"1\" class=\"dataframe\">\n",
       "  <thead>\n",
       "    <tr style=\"text-align: right;\">\n",
       "      <th></th>\n",
       "      <th>SalaryNormalized</th>\n",
       "    </tr>\n",
       "  </thead>\n",
       "  <tbody>\n",
       "    <tr>\n",
       "      <td>0</td>\n",
       "      <td>33000</td>\n",
       "    </tr>\n",
       "    <tr>\n",
       "      <td>1</td>\n",
       "      <td>50000</td>\n",
       "    </tr>\n",
       "    <tr>\n",
       "      <td>2</td>\n",
       "      <td>40000</td>\n",
       "    </tr>\n",
       "    <tr>\n",
       "      <td>3</td>\n",
       "      <td>22500</td>\n",
       "    </tr>\n",
       "    <tr>\n",
       "      <td>4</td>\n",
       "      <td>20355</td>\n",
       "    </tr>\n",
       "    <tr>\n",
       "      <td>...</td>\n",
       "      <td>...</td>\n",
       "    </tr>\n",
       "    <tr>\n",
       "      <td>59995</td>\n",
       "      <td>26400</td>\n",
       "    </tr>\n",
       "    <tr>\n",
       "      <td>59996</td>\n",
       "      <td>26000</td>\n",
       "    </tr>\n",
       "    <tr>\n",
       "      <td>59997</td>\n",
       "      <td>24500</td>\n",
       "    </tr>\n",
       "    <tr>\n",
       "      <td>59998</td>\n",
       "      <td>65000</td>\n",
       "    </tr>\n",
       "    <tr>\n",
       "      <td>59999</td>\n",
       "      <td>23040</td>\n",
       "    </tr>\n",
       "  </tbody>\n",
       "</table>\n",
       "<p>60000 rows × 1 columns</p>\n",
       "</div>"
      ],
      "text/plain": [
       "       SalaryNormalized\n",
       "0                 33000\n",
       "1                 50000\n",
       "2                 40000\n",
       "3                 22500\n",
       "4                 20355\n",
       "...                 ...\n",
       "59995             26400\n",
       "59996             26000\n",
       "59997             24500\n",
       "59998             65000\n",
       "59999             23040\n",
       "\n",
       "[60000 rows x 1 columns]"
      ]
     },
     "execution_count": 7,
     "metadata": {},
     "output_type": "execute_result"
    }
   ],
   "source": [
    "y_train"
   ]
  },
  {
   "cell_type": "code",
   "execution_count": 8,
   "metadata": {
    "scrolled": true
   },
   "outputs": [
    {
     "data": {
      "text/plain": [
       "Ridge(alpha=1, copy_X=True, fit_intercept=True, max_iter=None, normalize=False,\n",
       "      random_state=241, solver='auto', tol=0.001)"
      ]
     },
     "execution_count": 8,
     "metadata": {},
     "output_type": "execute_result"
    }
   ],
   "source": [
    "from sklearn.linear_model import Ridge\n",
    "\n",
    "rdg = Ridge(alpha=1, random_state=241)\n",
    "rdg.fit(X_train, y_train)"
   ]
  },
  {
   "cell_type": "code",
   "execution_count": 9,
   "metadata": {},
   "outputs": [
    {
     "data": {
      "text/plain": [
       "array([[56555.61500155],\n",
       "       [37188.32442618]])"
      ]
     },
     "execution_count": 9,
     "metadata": {},
     "output_type": "execute_result"
    }
   ],
   "source": [
    "rdg.predict(X_test)"
   ]
  },
  {
   "cell_type": "code",
   "execution_count": null,
   "metadata": {},
   "outputs": [],
   "source": []
  }
 ],
 "metadata": {
  "kernelspec": {
   "display_name": "Python 3",
   "language": "python",
   "name": "python3"
  },
  "language_info": {
   "codemirror_mode": {
    "name": "ipython",
    "version": 3
   },
   "file_extension": ".py",
   "mimetype": "text/x-python",
   "name": "python",
   "nbconvert_exporter": "python",
   "pygments_lexer": "ipython3",
   "version": "3.7.4"
  }
 },
 "nbformat": 4,
 "nbformat_minor": 2
}
